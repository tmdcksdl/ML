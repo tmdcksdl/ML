{
 "cells": [
  {
   "cell_type": "code",
   "execution_count": 4,
   "metadata": {},
   "outputs": [],
   "source": [
    "import pandas as pd\n",
    "import matplotlib.pyplot as plt\n",
    "%matplotlib inline"
   ]
  },
  {
   "cell_type": "code",
   "execution_count": 5,
   "metadata": {},
   "outputs": [],
   "source": [
    "url = 'https://raw.githubusercontent.com/PinkWink/ML_tutorial/master/dataset/HAR_dataset/features.txt'\n",
    "\n",
    "feature_name_df = pd.read_csv(url, sep='\\s+', header=None, names=['column_index', 'column_name'])\n",
    "feature_name = feature_name_df.iloc[:, 1].values.tolist()\n",
    "\n",
    "X_train_url = 'https://raw.githubusercontent.com/PinkWink/ML_tutorial/master/dataset/HAR_dataset/train/X_train.txt'\n",
    "X_test_url = 'https://raw.githubusercontent.com/PinkWink/ML_tutorial/master/dataset/HAR_dataset/test/X_test.txt'\n",
    "\n",
    "X_train = pd.read_csv(X_train_url, sep='\\s+', header=None)\n",
    "X_test = pd.read_csv(X_test_url, sep='\\s+', header=None)\n",
    "\n",
    "X_train.columns = feature_name\n",
    "X_test.columns = feature_name"
   ]
  },
  {
   "cell_type": "code",
   "execution_count": 6,
   "metadata": {},
   "outputs": [],
   "source": [
    "y_train_url = 'https://raw.githubusercontent.com/PinkWink/ML_tutorial/master/dataset/HAR_dataset/train/y_train.txt'\n",
    "y_test_url = 'https://raw.githubusercontent.com/PinkWink/ML_tutorial/master/dataset/HAR_dataset/test/y_test.txt'\n",
    "\n",
    "y_train = pd.read_csv(y_train_url, sep='\\s+', header=None, names=['action'])\n",
    "y_test = pd.read_csv(y_test_url, sep='\\s+', header=None, names=['action'])"
   ]
  },
  {
   "cell_type": "code",
   "execution_count": 7,
   "metadata": {},
   "outputs": [],
   "source": [
    "from sklearn.ensemble import GradientBoostingClassifier\n",
    "from sklearn.metrics import accuracy_score\n",
    "import time\n",
    "import warnings\n",
    "\n",
    "warnings.filterwarnings('ignore')"
   ]
  },
  {
   "cell_type": "code",
   "execution_count": 12,
   "metadata": {},
   "outputs": [
    {
     "ename": "",
     "evalue": "",
     "output_type": "error",
     "traceback": [
      "\u001b[1;31m현재 셀 또는 이전 셀에서 코드를 실행하는 동안 Kernel이 충돌했습니다. \n",
      "\u001b[1;31m셀의 코드를 검토하여 가능한 오류 원인을 식별하세요. \n",
      "\u001b[1;31m자세한 내용을 보려면 <a href='https://aka.ms/vscodeJupyterKernelCrash'>여기</a>를 클릭하세요. \n",
      "\u001b[1;31m자세한 내용은 Jupyter <a href='command:jupyter.viewOutput'>로그</a>를 참조하세요."
     ]
    }
   ],
   "source": [
    "start_time = time.time()\n",
    "\n",
    "gb_clf = GradientBoostingClassifier(random_state=17)\n",
    "gb_clf.fit(X_train, y_train)\n",
    "gb_pred = gb_clf.predict(X_test)\n",
    "\n",
    "print('ACC :', accuracy_score(y_test, gb_pred))\n",
    "print('Fit Time :', time.time() - start_time)"
   ]
  },
  {
   "cell_type": "code",
   "execution_count": 11,
   "metadata": {},
   "outputs": [
    {
     "ename": "NameError",
     "evalue": "name 'gb_clf' is not defined",
     "output_type": "error",
     "traceback": [
      "\u001b[1;31m---------------------------------------------------------------------------\u001b[0m",
      "\u001b[1;31mNameError\u001b[0m                                 Traceback (most recent call last)",
      "Cell \u001b[1;32mIn[11], line 9\u001b[0m\n\u001b[0;32m      3\u001b[0m params \u001b[38;5;241m=\u001b[39m {\n\u001b[0;32m      4\u001b[0m     \u001b[38;5;124m'\u001b[39m\u001b[38;5;124mn_estimators\u001b[39m\u001b[38;5;124m'\u001b[39m: [\u001b[38;5;241m100\u001b[39m, \u001b[38;5;241m500\u001b[39m],\n\u001b[0;32m      5\u001b[0m     \u001b[38;5;124m'\u001b[39m\u001b[38;5;124mlearning_rate\u001b[39m\u001b[38;5;124m'\u001b[39m : [\u001b[38;5;241m0.05\u001b[39m, \u001b[38;5;241m0.1\u001b[39m]\n\u001b[0;32m      6\u001b[0m }\n\u001b[0;32m      8\u001b[0m start_time \u001b[38;5;241m=\u001b[39m time\u001b[38;5;241m.\u001b[39mtime()\n\u001b[1;32m----> 9\u001b[0m grid \u001b[38;5;241m=\u001b[39m GridSearchCV(\u001b[43mgb_clf\u001b[49m, param_grid\u001b[38;5;241m=\u001b[39mparams, cv\u001b[38;5;241m=\u001b[39m\u001b[38;5;241m2\u001b[39m, verbose\u001b[38;5;241m=\u001b[39m\u001b[38;5;241m1\u001b[39m, n_jobs\u001b[38;5;241m=\u001b[39m\u001b[38;5;241m-\u001b[39m\u001b[38;5;241m1\u001b[39m)\n\u001b[0;32m     10\u001b[0m grid\u001b[38;5;241m.\u001b[39mfit(X_train, y_train)\n\u001b[0;32m     11\u001b[0m \u001b[38;5;28mprint\u001b[39m(\u001b[38;5;124m'\u001b[39m\u001b[38;5;124mFit Time :\u001b[39m\u001b[38;5;124m'\u001b[39m, time\u001b[38;5;241m.\u001b[39mtime() \u001b[38;5;241m-\u001b[39m start_time)\n",
      "\u001b[1;31mNameError\u001b[0m: name 'gb_clf' is not defined"
     ]
    }
   ],
   "source": [
    "from sklearn.model_selection import GridSearchCV\n",
    "\n",
    "params = {\n",
    "    'n_estimators': [100, 500],\n",
    "    'learning_rate' : [0.05, 0.1]\n",
    "}\n",
    "\n",
    "start_time = time.time()\n",
    "grid = GridSearchCV(gb_clf, param_grid=params, cv=2, verbose=1, n_jobs=-1)\n",
    "grid.fit(X_train, y_train)\n",
    "print('Fit Time :', time.time() - start_time)"
   ]
  },
  {
   "cell_type": "code",
   "execution_count": 8,
   "metadata": {},
   "outputs": [
    {
     "name": "stdout",
     "output_type": "stream",
     "text": [
      "Fit time : 51.620214223861694\n"
     ]
    }
   ],
   "source": [
    "from xgboost import XGBClassifier\n",
    "\n",
    "start_time = time.time()\n",
    "xgb = XGBClassifier(n_estimators=400, learning_rate=0.1, max_depth=3)\n",
    "xgb.fit(X_train.values, y_train-1)\n",
    "print('Fit time :', time.time() - start_time)"
   ]
  },
  {
   "cell_type": "code",
   "execution_count": 9,
   "metadata": {},
   "outputs": [
    {
     "data": {
      "text/plain": [
       "0.024092297251442144"
      ]
     },
     "execution_count": 9,
     "metadata": {},
     "output_type": "execute_result"
    }
   ],
   "source": [
    "accuracy_score(y_test, xgb.predict(X_test.values))"
   ]
  },
  {
   "cell_type": "code",
   "execution_count": 11,
   "metadata": {},
   "outputs": [
    {
     "name": "stdout",
     "output_type": "stream",
     "text": [
      "[0]\tvalidation_0-mlogloss:1.58912\n",
      "[1]\tvalidation_0-mlogloss:1.43298\n",
      "[2]\tvalidation_0-mlogloss:1.30579\n",
      "[3]\tvalidation_0-mlogloss:1.19398\n",
      "[4]\tvalidation_0-mlogloss:1.10151\n",
      "[5]\tvalidation_0-mlogloss:1.01952\n",
      "[6]\tvalidation_0-mlogloss:0.94821\n",
      "[7]\tvalidation_0-mlogloss:0.88468\n",
      "[8]\tvalidation_0-mlogloss:0.82846\n",
      "[9]\tvalidation_0-mlogloss:0.77660\n",
      "[10]\tvalidation_0-mlogloss:0.73051\n",
      "[11]\tvalidation_0-mlogloss:0.68873\n",
      "[12]\tvalidation_0-mlogloss:0.65163\n",
      "[13]\tvalidation_0-mlogloss:0.61809\n",
      "[14]\tvalidation_0-mlogloss:0.58776\n",
      "[15]\tvalidation_0-mlogloss:0.55936\n",
      "[16]\tvalidation_0-mlogloss:0.53447\n",
      "[17]\tvalidation_0-mlogloss:0.51131\n",
      "[18]\tvalidation_0-mlogloss:0.49076\n",
      "[19]\tvalidation_0-mlogloss:0.47043\n",
      "[20]\tvalidation_0-mlogloss:0.45119\n",
      "[21]\tvalidation_0-mlogloss:0.43441\n",
      "[22]\tvalidation_0-mlogloss:0.41777\n",
      "[23]\tvalidation_0-mlogloss:0.40352\n",
      "[24]\tvalidation_0-mlogloss:0.38949\n",
      "[25]\tvalidation_0-mlogloss:0.37684\n",
      "[26]\tvalidation_0-mlogloss:0.36371\n",
      "[27]\tvalidation_0-mlogloss:0.35286\n",
      "[28]\tvalidation_0-mlogloss:0.34221\n",
      "[29]\tvalidation_0-mlogloss:0.33315\n",
      "[30]\tvalidation_0-mlogloss:0.32387\n",
      "[31]\tvalidation_0-mlogloss:0.31562\n",
      "[32]\tvalidation_0-mlogloss:0.30764\n",
      "[33]\tvalidation_0-mlogloss:0.30095\n",
      "[34]\tvalidation_0-mlogloss:0.29447\n",
      "[35]\tvalidation_0-mlogloss:0.28810\n",
      "[36]\tvalidation_0-mlogloss:0.28179\n",
      "[37]\tvalidation_0-mlogloss:0.27471\n",
      "[38]\tvalidation_0-mlogloss:0.26885\n",
      "[39]\tvalidation_0-mlogloss:0.26238\n",
      "[40]\tvalidation_0-mlogloss:0.25814\n",
      "[41]\tvalidation_0-mlogloss:0.25317\n",
      "[42]\tvalidation_0-mlogloss:0.24820\n",
      "[43]\tvalidation_0-mlogloss:0.24403\n",
      "[44]\tvalidation_0-mlogloss:0.23968\n",
      "[45]\tvalidation_0-mlogloss:0.23583\n",
      "[46]\tvalidation_0-mlogloss:0.23178\n",
      "[47]\tvalidation_0-mlogloss:0.22802\n",
      "[48]\tvalidation_0-mlogloss:0.22398\n",
      "[49]\tvalidation_0-mlogloss:0.22128\n",
      "[50]\tvalidation_0-mlogloss:0.21875\n",
      "[51]\tvalidation_0-mlogloss:0.21577\n",
      "[52]\tvalidation_0-mlogloss:0.21175\n",
      "[53]\tvalidation_0-mlogloss:0.20918\n",
      "[54]\tvalidation_0-mlogloss:0.20701\n",
      "[55]\tvalidation_0-mlogloss:0.20486\n",
      "[56]\tvalidation_0-mlogloss:0.20269\n",
      "[57]\tvalidation_0-mlogloss:0.20019\n",
      "[58]\tvalidation_0-mlogloss:0.19839\n",
      "[59]\tvalidation_0-mlogloss:0.19591\n",
      "[60]\tvalidation_0-mlogloss:0.19375\n",
      "[61]\tvalidation_0-mlogloss:0.19245\n",
      "[62]\tvalidation_0-mlogloss:0.19056\n",
      "[63]\tvalidation_0-mlogloss:0.18857\n",
      "[64]\tvalidation_0-mlogloss:0.18675\n",
      "[65]\tvalidation_0-mlogloss:0.18511\n",
      "[66]\tvalidation_0-mlogloss:0.18284\n",
      "[67]\tvalidation_0-mlogloss:0.18073\n",
      "[68]\tvalidation_0-mlogloss:0.17894\n",
      "[69]\tvalidation_0-mlogloss:0.17747\n",
      "[70]\tvalidation_0-mlogloss:0.17621\n",
      "[71]\tvalidation_0-mlogloss:0.17537\n",
      "[72]\tvalidation_0-mlogloss:0.17396\n",
      "[73]\tvalidation_0-mlogloss:0.17297\n",
      "[74]\tvalidation_0-mlogloss:0.17167\n",
      "[75]\tvalidation_0-mlogloss:0.17020\n",
      "[76]\tvalidation_0-mlogloss:0.16897\n",
      "[77]\tvalidation_0-mlogloss:0.16825\n",
      "[78]\tvalidation_0-mlogloss:0.16745\n",
      "[79]\tvalidation_0-mlogloss:0.16636\n",
      "[80]\tvalidation_0-mlogloss:0.16542\n",
      "[81]\tvalidation_0-mlogloss:0.16447\n",
      "[82]\tvalidation_0-mlogloss:0.16398\n",
      "[83]\tvalidation_0-mlogloss:0.16300\n",
      "[84]\tvalidation_0-mlogloss:0.16255\n",
      "[85]\tvalidation_0-mlogloss:0.16151\n",
      "[86]\tvalidation_0-mlogloss:0.16095\n",
      "[87]\tvalidation_0-mlogloss:0.16032\n",
      "[88]\tvalidation_0-mlogloss:0.15923\n",
      "[89]\tvalidation_0-mlogloss:0.15836\n",
      "[90]\tvalidation_0-mlogloss:0.15757\n",
      "[91]\tvalidation_0-mlogloss:0.15710\n",
      "[92]\tvalidation_0-mlogloss:0.15685\n",
      "[93]\tvalidation_0-mlogloss:0.15590\n",
      "[94]\tvalidation_0-mlogloss:0.15509\n",
      "[95]\tvalidation_0-mlogloss:0.15484\n",
      "[96]\tvalidation_0-mlogloss:0.15388\n",
      "[97]\tvalidation_0-mlogloss:0.15331\n",
      "[98]\tvalidation_0-mlogloss:0.15258\n",
      "[99]\tvalidation_0-mlogloss:0.15198\n",
      "[100]\tvalidation_0-mlogloss:0.15229\n",
      "[101]\tvalidation_0-mlogloss:0.15127\n",
      "[102]\tvalidation_0-mlogloss:0.15137\n",
      "[103]\tvalidation_0-mlogloss:0.15090\n",
      "[104]\tvalidation_0-mlogloss:0.15016\n",
      "[105]\tvalidation_0-mlogloss:0.14957\n",
      "[106]\tvalidation_0-mlogloss:0.14920\n",
      "[107]\tvalidation_0-mlogloss:0.14899\n",
      "[108]\tvalidation_0-mlogloss:0.14856\n",
      "[109]\tvalidation_0-mlogloss:0.14843\n",
      "[110]\tvalidation_0-mlogloss:0.14815\n",
      "[111]\tvalidation_0-mlogloss:0.14784\n",
      "[112]\tvalidation_0-mlogloss:0.14818\n",
      "[113]\tvalidation_0-mlogloss:0.14788\n",
      "[114]\tvalidation_0-mlogloss:0.14825\n",
      "[115]\tvalidation_0-mlogloss:0.14729\n",
      "[116]\tvalidation_0-mlogloss:0.14693\n",
      "[117]\tvalidation_0-mlogloss:0.14664\n",
      "[118]\tvalidation_0-mlogloss:0.14622\n",
      "[119]\tvalidation_0-mlogloss:0.14641\n",
      "[120]\tvalidation_0-mlogloss:0.14643\n",
      "[121]\tvalidation_0-mlogloss:0.14598\n",
      "[122]\tvalidation_0-mlogloss:0.14535\n",
      "[123]\tvalidation_0-mlogloss:0.14407\n",
      "[124]\tvalidation_0-mlogloss:0.14364\n",
      "[125]\tvalidation_0-mlogloss:0.14364\n",
      "[126]\tvalidation_0-mlogloss:0.14307\n",
      "[127]\tvalidation_0-mlogloss:0.14267\n",
      "[128]\tvalidation_0-mlogloss:0.14276\n",
      "[129]\tvalidation_0-mlogloss:0.14264\n",
      "[130]\tvalidation_0-mlogloss:0.14287\n",
      "[131]\tvalidation_0-mlogloss:0.14325\n",
      "[132]\tvalidation_0-mlogloss:0.14305\n",
      "[133]\tvalidation_0-mlogloss:0.14259\n",
      "[134]\tvalidation_0-mlogloss:0.14219\n",
      "[135]\tvalidation_0-mlogloss:0.14200\n",
      "[136]\tvalidation_0-mlogloss:0.14200\n",
      "[137]\tvalidation_0-mlogloss:0.14242\n",
      "[138]\tvalidation_0-mlogloss:0.14172\n",
      "[139]\tvalidation_0-mlogloss:0.14128\n",
      "[140]\tvalidation_0-mlogloss:0.14143\n",
      "[141]\tvalidation_0-mlogloss:0.14140\n",
      "[142]\tvalidation_0-mlogloss:0.14182\n",
      "[143]\tvalidation_0-mlogloss:0.14127\n",
      "[144]\tvalidation_0-mlogloss:0.14087\n",
      "[145]\tvalidation_0-mlogloss:0.14099\n",
      "[146]\tvalidation_0-mlogloss:0.14108\n",
      "[147]\tvalidation_0-mlogloss:0.14132\n",
      "[148]\tvalidation_0-mlogloss:0.14078\n",
      "[149]\tvalidation_0-mlogloss:0.14061\n",
      "[150]\tvalidation_0-mlogloss:0.14058\n",
      "[151]\tvalidation_0-mlogloss:0.14077\n",
      "[152]\tvalidation_0-mlogloss:0.14045\n",
      "[153]\tvalidation_0-mlogloss:0.14010\n",
      "[154]\tvalidation_0-mlogloss:0.13986\n",
      "[155]\tvalidation_0-mlogloss:0.13955\n",
      "[156]\tvalidation_0-mlogloss:0.13962\n",
      "[157]\tvalidation_0-mlogloss:0.13991\n",
      "[158]\tvalidation_0-mlogloss:0.13972\n",
      "[159]\tvalidation_0-mlogloss:0.13952\n",
      "[160]\tvalidation_0-mlogloss:0.13989\n",
      "[161]\tvalidation_0-mlogloss:0.13916\n",
      "[162]\tvalidation_0-mlogloss:0.13862\n",
      "[163]\tvalidation_0-mlogloss:0.13917\n",
      "[164]\tvalidation_0-mlogloss:0.13943\n",
      "[165]\tvalidation_0-mlogloss:0.13968\n",
      "[166]\tvalidation_0-mlogloss:0.13932\n",
      "[167]\tvalidation_0-mlogloss:0.13894\n",
      "[168]\tvalidation_0-mlogloss:0.13891\n",
      "[169]\tvalidation_0-mlogloss:0.13857\n",
      "[170]\tvalidation_0-mlogloss:0.13847\n",
      "[171]\tvalidation_0-mlogloss:0.13797\n",
      "[172]\tvalidation_0-mlogloss:0.13835\n",
      "[173]\tvalidation_0-mlogloss:0.13908\n",
      "[174]\tvalidation_0-mlogloss:0.13887\n",
      "[175]\tvalidation_0-mlogloss:0.13862\n",
      "[176]\tvalidation_0-mlogloss:0.13871\n",
      "[177]\tvalidation_0-mlogloss:0.13867\n",
      "[178]\tvalidation_0-mlogloss:0.13842\n",
      "[179]\tvalidation_0-mlogloss:0.13830\n",
      "[180]\tvalidation_0-mlogloss:0.13833\n",
      "Fit time : 34.295231342315674\n"
     ]
    }
   ],
   "source": [
    "evals = [(X_test.values, y_test-1)]\n",
    "\n",
    "start_time = time.time()\n",
    "xgb = XGBClassifier(n_estimators=400, learning_rate=0.1, max_depth=3)\n",
    "xgb.fit(X_train.values, y_train-1, early_stopping_rounds=10, eval_set=evals)\n",
    "print('Fit time :', time.time() - start_time)"
   ]
  },
  {
   "cell_type": "code",
   "execution_count": 12,
   "metadata": {},
   "outputs": [
    {
     "data": {
      "text/plain": [
       "0.02477095351204615"
      ]
     },
     "execution_count": 12,
     "metadata": {},
     "output_type": "execute_result"
    }
   ],
   "source": [
    "accuracy_score(y_test, xgb.predict(X_test.values))"
   ]
  },
  {
   "cell_type": "code",
   "execution_count": 15,
   "metadata": {},
   "outputs": [
    {
     "name": "stdout",
     "output_type": "stream",
     "text": [
      "[LightGBM] [Info] Auto-choosing col-wise multi-threading, the overhead of testing was 0.025486 seconds.\n",
      "You can set `force_col_wise=true` to remove the overhead.\n",
      "[LightGBM] [Info] Total Bins 140170\n",
      "[LightGBM] [Info] Number of data points in the train set: 7352, number of used features: 561\n",
      "[LightGBM] [Info] Start training from score -1.791216\n",
      "[LightGBM] [Info] Start training from score -1.924514\n",
      "[LightGBM] [Info] Start training from score -2.009071\n",
      "[LightGBM] [Info] Start training from score -1.743436\n",
      "[LightGBM] [Info] Start training from score -1.677246\n",
      "[LightGBM] [Info] Start training from score -1.653513\n",
      "[LightGBM] [Warning] No further splits with positive gain, best gain: -inf\n",
      "Training until validation scores don't improve for 20 rounds\n",
      "Early stopping, best iteration is:\n",
      "[38]\tvalid_0's multi_logloss: 0.233106\n",
      "Fit time : 10.931838035583496\n"
     ]
    }
   ],
   "source": [
    "from lightgbm import LGBMClassifier\n",
    "from lightgbm import early_stopping\n",
    "\n",
    "start_time = time.time()\n",
    "lgbm = LGBMClassifier(n_estimators=400)\n",
    "lgbm.fit(X_train.values, y_train-1, callbacks=[early_stopping(stopping_rounds=20)], eval_set=evals)\n",
    "print('Fit time :', time.time() - start_time)"
   ]
  },
  {
   "cell_type": "code",
   "execution_count": 16,
   "metadata": {},
   "outputs": [
    {
     "data": {
      "text/plain": [
       "0.034611469290804206"
      ]
     },
     "execution_count": 16,
     "metadata": {},
     "output_type": "execute_result"
    }
   ],
   "source": [
    "accuracy_score(y_test, lgbm.predict(X_test.values))"
   ]
  },
  {
   "cell_type": "code",
   "execution_count": null,
   "metadata": {},
   "outputs": [],
   "source": []
  }
 ],
 "metadata": {
  "kernelspec": {
   "display_name": "Python 3",
   "language": "python",
   "name": "python3"
  },
  "language_info": {
   "codemirror_mode": {
    "name": "ipython",
    "version": 3
   },
   "file_extension": ".py",
   "mimetype": "text/x-python",
   "name": "python",
   "nbconvert_exporter": "python",
   "pygments_lexer": "ipython3",
   "version": "3.8.18"
  }
 },
 "nbformat": 4,
 "nbformat_minor": 2
}
